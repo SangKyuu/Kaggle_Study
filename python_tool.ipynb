{
 "cells": [
  {
   "cell_type": "markdown",
   "metadata": {},
   "source": [
    "# python function\n",
    "**기본적인 python function 문법** "
   ]
  },
  {
   "cell_type": "code",
   "execution_count": 1,
   "metadata": {},
   "outputs": [],
   "source": [
    "def cycle_area(radius):\n",
    "    PI = 3.14\n",
    "    area = (radius**2) * PI\n",
    "    return area "
   ]
  },
  {
   "cell_type": "code",
   "execution_count": 2,
   "metadata": {},
   "outputs": [
    {
     "data": {
      "text/plain": [
       "314.0"
      ]
     },
     "execution_count": 2,
     "metadata": {},
     "output_type": "execute_result"
    }
   ],
   "source": [
    "area = cycle_area(10)\n",
    "area"
   ]
  },
  {
   "cell_type": "markdown",
   "metadata": {},
   "source": [
    "**함수를 호출하는 함수**"
   ]
  },
  {
   "cell_type": "code",
   "execution_count": 5,
   "metadata": {},
   "outputs": [],
   "source": [
    "def sector_area(radius, angle):\n",
    "    area = cycle_area(radius) * angle / 360\n",
    "    return area"
   ]
  },
  {
   "cell_type": "code",
   "execution_count": 6,
   "metadata": {},
   "outputs": [
    {
     "data": {
      "text/plain": [
       "157.0"
      ]
     },
     "execution_count": 6,
     "metadata": {},
     "output_type": "execute_result"
    }
   ],
   "source": [
    "area = sector_area(10, 180)\n",
    "area"
   ]
  },
  {
   "cell_type": "markdown",
   "metadata": {},
   "source": [
    "**함수의 default 값**"
   ]
  },
  {
   "cell_type": "code",
   "execution_count": 7,
   "metadata": {},
   "outputs": [],
   "source": [
    "def incr(a, step=1):\n",
    "    return a + step"
   ]
  },
  {
   "cell_type": "code",
   "execution_count": 8,
   "metadata": {},
   "outputs": [
    {
     "data": {
      "text/plain": [
       "2"
      ]
     },
     "execution_count": 8,
     "metadata": {},
     "output_type": "execute_result"
    }
   ],
   "source": [
    "b = 1\n",
    "b = incr(b)\n",
    "b"
   ]
  },
  {
   "cell_type": "code",
   "execution_count": 9,
   "metadata": {},
   "outputs": [
    {
     "data": {
      "text/plain": [
       "12"
      ]
     },
     "execution_count": 9,
     "metadata": {},
     "output_type": "execute_result"
    }
   ],
   "source": [
    "b = incr(b, 10)\n",
    "b"
   ]
  },
  {
   "cell_type": "markdown",
   "metadata": {},
   "source": [
    "**함수의 키워드 전달**  \n",
    "위치 기반으로 값을 전달하지 않고 인수의 이름으로 값을 전달 "
   ]
  },
  {
   "cell_type": "code",
   "execution_count": 10,
   "metadata": {},
   "outputs": [],
   "source": [
    "def area(height, width):\n",
    "    return height * width"
   ]
  },
  {
   "cell_type": "code",
   "execution_count": 14,
   "metadata": {},
   "outputs": [
    {
     "ename": "SyntaxError",
     "evalue": "positional argument follows keyword argument (<ipython-input-14-a9241e6b0989>, line 3)",
     "output_type": "error",
     "traceback": [
      "\u001b[1;36m  File \u001b[1;32m\"<ipython-input-14-a9241e6b0989>\"\u001b[1;36m, line \u001b[1;32m3\u001b[0m\n\u001b[1;33m    area(height=10, 10)   #키워드로 전달되는 값은 항상 위치 기반의 값 뒤에 있어야함\u001b[0m\n\u001b[1;37m                   ^\u001b[0m\n\u001b[1;31mSyntaxError\u001b[0m\u001b[1;31m:\u001b[0m positional argument follows keyword argument\n"
     ]
    }
   ],
   "source": [
    "area(width=20, height=10)\n",
    "area(20, width=5)\n",
    "area(height=10, 10)   #키워드로 전달되는 값은 항상 위치 기반의 값 뒤에 있어야함"
   ]
  },
  {
   "cell_type": "markdown",
   "metadata": {},
   "source": [
    "**가변인수**  \n",
    "-고정되지 않은 수의 인수를 함수에 전달하는 방법  \n",
    "-함수 정의에서 반드시 넘겨야하는 고정 인수를 우선 나열하고, 나머지를 튜플로 받는다"
   ]
  },
  {
   "cell_type": "code",
   "execution_count": 15,
   "metadata": {},
   "outputs": [],
   "source": [
    "def varg(a, *arg):\n",
    "    print(a, arg)"
   ]
  },
  {
   "cell_type": "code",
   "execution_count": 16,
   "metadata": {},
   "outputs": [
    {
     "name": "stdout",
     "output_type": "stream",
     "text": [
      "1 ()\n",
      "2 (3,)\n",
      "2 (3, 4, 5)\n",
      "1 ([1, 2, 3, 4], 5)\n"
     ]
    }
   ],
   "source": [
    "varg(1)\n",
    "varg(2,3)\n",
    "varg(2,3,4,5)\n",
    "varg(1,[1,2,3,4],5)"
   ]
  },
  {
   "cell_type": "markdown",
   "metadata": {},
   "source": [
    "**튜플 인수**  \n",
    "함수 호출에 사용하는 인수들이 튜플에 있는 경우 *를 이용하여 함수 호출 가능  \n",
    "  \n",
    "**딕셔너리 인수**  \n",
    "함수 호출에 사용하는 인수들이 딕셔너리에 있는 경우 **를 이용하여 함수 호출 가능"
   ]
  },
  {
   "cell_type": "code",
   "execution_count": 18,
   "metadata": {},
   "outputs": [],
   "source": [
    "def h(a,b,c):\n",
    "    print(a,b,c)"
   ]
  },
  {
   "cell_type": "code",
   "execution_count": 19,
   "metadata": {},
   "outputs": [
    {
     "name": "stdout",
     "output_type": "stream",
     "text": [
      "1 2 3\n"
     ]
    }
   ],
   "source": [
    "args = (1,2,3)\n",
    "h(*args)"
   ]
  },
  {
   "cell_type": "code",
   "execution_count": 20,
   "metadata": {},
   "outputs": [
    {
     "name": "stdout",
     "output_type": "stream",
     "text": [
      "1 2 3\n"
     ]
    }
   ],
   "source": [
    "dargs = {'a':1, 'b':2, 'c':3}\n",
    "h(**dargs)"
   ]
  },
  {
   "cell_type": "code",
   "execution_count": 21,
   "metadata": {},
   "outputs": [
    {
     "name": "stdout",
     "output_type": "stream",
     "text": [
      "1 2 3\n"
     ]
    }
   ],
   "source": [
    "args = (1,2)\n",
    "dargs = {'c':3}\n",
    "h(*args, **dargs)"
   ]
  },
  {
   "cell_type": "markdown",
   "metadata": {},
   "source": [
    "**변수의 유효 범위**  \n",
    "**LEGB**  \n",
    "- **L** (Local) : 함수 안  \n",
    "- **E** (Enclosing Functional Local) : 함수를 내포하는 또 다른 함수 영역  \n",
    "- **G** (Global) : 모듈 영역  \n",
    "- **B** (Built-in) : 내장영역"
   ]
  },
  {
   "cell_type": "code",
   "execution_count": 23,
   "metadata": {},
   "outputs": [
    {
     "name": "stdout",
     "output_type": "stream",
     "text": [
      "30 20 11\n",
      "30 40 11\n"
     ]
    }
   ],
   "source": [
    "x = 10                     #G에 해당\n",
    "y = 11\n",
    "def foo():\n",
    "    x = 20                 #foo함수의 L, bar함수의 E에 해당\n",
    "    def bar():\n",
    "        a = 30             #L에 해당\n",
    "        print(a, x, y)     #각 변수는 L, E, G에 해당\n",
    "    bar()                  #30 20 11 출력 \n",
    "    x = 40\n",
    "    bar()                  #30 40 11 출력\n",
    "\n",
    "foo()"
   ]
  },
  {
   "cell_type": "markdown",
   "metadata": {},
   "source": [
    "**global 선언자**  \n",
    "변수가 전역 변수임을 선언"
   ]
  },
  {
   "cell_type": "code",
   "execution_count": 24,
   "metadata": {},
   "outputs": [
    {
     "data": {
      "text/plain": [
       "10"
      ]
     },
     "execution_count": 24,
     "metadata": {},
     "output_type": "execute_result"
    }
   ],
   "source": [
    "g = 10\n",
    "def f():\n",
    "    global g\n",
    "    a = g\n",
    "    g = 20\n",
    "    return a\n",
    "f()"
   ]
  },
  {
   "cell_type": "markdown",
   "metadata": {},
   "source": [
    "**nonlocal 선언자**  \n",
    "E영역의 변수 선언  \n",
    "가장 가까운 이름 공간부터 변수를 찾음"
   ]
  },
  {
   "cell_type": "code",
   "execution_count": 26,
   "metadata": {},
   "outputs": [
    {
     "name": "stdout",
     "output_type": "stream",
     "text": [
      "inner:  2\n",
      "outer:  2\n"
     ]
    }
   ],
   "source": [
    "def outer():\n",
    "    x = 1\n",
    "    def inner():\n",
    "        nonlocal x      #함수의 outer의 x 사용\n",
    "        x = 2           #함수의 inner 지역변수 아님\n",
    "        print('inner: ', x)\n",
    "    inner()\n",
    "    print('outer: ', x)\n",
    "outer()"
   ]
  },
  {
   "cell_type": "markdown",
   "metadata": {},
   "source": [
    "**재귀 함수**"
   ]
  },
  {
   "cell_type": "code",
   "execution_count": 27,
   "metadata": {},
   "outputs": [
    {
     "data": {
      "text/plain": [
       "55"
      ]
     },
     "execution_count": 27,
     "metadata": {},
     "output_type": "execute_result"
    }
   ],
   "source": [
    "def sum(N):\n",
    "    if N == 1: return 1\n",
    "    return N + sum(N-1)\n",
    "sum(10)"
   ]
  },
  {
   "cell_type": "markdown",
   "metadata": {},
   "source": [
    "**lambda 함수**  \n",
    "- labmda <인수들> : <반환할 식>"
   ]
  },
  {
   "cell_type": "code",
   "execution_count": 29,
   "metadata": {},
   "outputs": [
    {
     "data": {
      "text/plain": [
       "3"
      ]
     },
     "execution_count": 29,
     "metadata": {},
     "output_type": "execute_result"
    }
   ],
   "source": [
    "f = lambda x, y : x+y\n",
    "f(1,2)"
   ]
  },
  {
   "cell_type": "code",
   "execution_count": 30,
   "metadata": {},
   "outputs": [
    {
     "data": {
      "text/plain": [
       "15"
      ]
     },
     "execution_count": 30,
     "metadata": {},
     "output_type": "execute_result"
    }
   ],
   "source": [
    "incr= lambda x, inc=1 : x + inc\n",
    "incr(10)\n",
    "incr(10, 5)"
   ]
  },
  {
   "cell_type": "code",
   "execution_count": 31,
   "metadata": {},
   "outputs": [
    {
     "data": {
      "text/plain": [
       "(2, 3, 4, 5)"
      ]
     },
     "execution_count": 31,
     "metadata": {},
     "output_type": "execute_result"
    }
   ],
   "source": [
    "vargs = lambda x, *args:args\n",
    "vargs(1,2,3,4,5)"
   ]
  },
  {
   "cell_type": "markdown",
   "metadata": {},
   "source": [
    "**iterator**"
   ]
  },
  {
   "cell_type": "code",
   "execution_count": 33,
   "metadata": {},
   "outputs": [
    {
     "name": "stdout",
     "output_type": "stream",
     "text": [
      "r\n",
      "o\n",
      "n a l d o\n"
     ]
    }
   ],
   "source": [
    "name = \"ronaldo\"\n",
    "it = iter(name)\n",
    "print(next(it)) \n",
    "print(next(it))\n",
    "print(*it)"
   ]
  },
  {
   "cell_type": "markdown",
   "metadata": {},
   "source": [
    "**zip**"
   ]
  },
  {
   "cell_type": "code",
   "execution_count": 34,
   "metadata": {},
   "outputs": [
    {
     "name": "stdout",
     "output_type": "stream",
     "text": [
      "(1, 6)\n",
      "(2, 7)\n",
      "(3, 8)\n",
      "(4, 9)\n",
      "(5, 10)\n"
     ]
    }
   ],
   "source": [
    "list1 = [1,2,3,4,5]\n",
    "list2 = [6,7,8,9,10]\n",
    "\n",
    "for i in zip(list1, list2):\n",
    "    print(i)"
   ]
  },
  {
   "cell_type": "markdown",
   "metadata": {},
   "source": [
    "**iterator ,zip 활용한 dataloader**"
   ]
  },
  {
   "cell_type": "code",
   "execution_count": 1,
   "metadata": {},
   "outputs": [
    {
     "name": "stdout",
     "output_type": "stream",
     "text": [
      "0 [(1, [1, 0, 0, 0, 0, 0, 0, 0, 0, 0]), (2, [0, 1, 0, 0, 0, 0, 0, 0, 0, 0])]\n",
      "1 [(3, [0, 0, 1, 0, 0, 0, 0, 0, 0, 0]), (4, [0, 0, 0, 1, 0, 0, 0, 0, 0, 0])]\n",
      "2 [(5, [0, 0, 0, 0, 1, 0, 0, 0, 0, 0]), (6, [0, 0, 0, 0, 0, 1, 0, 0, 0, 0])]\n",
      "3 [(7, [0, 0, 0, 0, 0, 0, 1, 0, 0, 0]), (8, [0, 0, 0, 0, 0, 0, 0, 1, 0, 0])]\n",
      "4 [(9, [0, 0, 0, 0, 0, 0, 0, 0, 1, 0]), (0, [0, 0, 0, 0, 0, 0, 0, 0, 0, 1])]\n"
     ]
    }
   ],
   "source": [
    "x = [1,2,3,4,5,6,7,8,9,0]\n",
    "y = [[1,0,0,0,0,0,0,0,0,0],\n",
    "     [0,1,0,0,0,0,0,0,0,0],\n",
    "     [0,0,1,0,0,0,0,0,0,0],\n",
    "     [0,0,0,1,0,0,0,0,0,0],\n",
    "     [0,0,0,0,1,0,0,0,0,0],\n",
    "     [0,0,0,0,0,1,0,0,0,0],\n",
    "     [0,0,0,0,0,0,1,0,0,0],\n",
    "     [0,0,0,0,0,0,0,1,0,0],\n",
    "     [0,0,0,0,0,0,0,0,1,0],\n",
    "     [0,0,0,0,0,0,0,0,0,1]]\n",
    "\n",
    "def data_loader(x, y, batch_size=2):\n",
    "    a = list(zip(x,y))\n",
    "    b_num = len(a)//batch_size\n",
    "    for i in range(b_num):\n",
    "        yield a[i*batch_size:(i+1)*batch_size]\n",
    "        \n",
    "loader = data_loader(x,y)\n",
    "\n",
    "for i, data in enumerate(loader):\n",
    "    print(i, data)"
   ]
  },
  {
   "cell_type": "code",
   "execution_count": null,
   "metadata": {},
   "outputs": [],
   "source": []
  }
 ],
 "metadata": {
  "kernelspec": {
   "display_name": "Python 3",
   "language": "python",
   "name": "python3"
  },
  "language_info": {
   "codemirror_mode": {
    "name": "ipython",
    "version": 3
   },
   "file_extension": ".py",
   "mimetype": "text/x-python",
   "name": "python",
   "nbconvert_exporter": "python",
   "pygments_lexer": "ipython3",
   "version": "3.6.5"
  }
 },
 "nbformat": 4,
 "nbformat_minor": 4
}
